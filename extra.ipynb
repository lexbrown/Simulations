{
 "cells": [
  {
   "cell_type": "code",
   "execution_count": 1,
   "metadata": {},
   "outputs": [],
   "source": [
    "import simpy"
   ]
  },
  {
   "cell_type": "markdown",
   "metadata": {},
   "source": [
    "## Parallel Processes"
   ]
  },
  {
   "cell_type": "code",
   "execution_count": 2,
   "metadata": {},
   "outputs": [],
   "source": [
    "def clock(env,name,tick):\n",
    "    while True:\n",
    "        print(name,env.now)\n",
    "        yield env.timeout(tick)"
   ]
  },
  {
   "cell_type": "code",
   "execution_count": 3,
   "metadata": {},
   "outputs": [
    {
     "name": "stdout",
     "output_type": "stream",
     "text": [
      "fast 0\n",
      "slow 0\n",
      "fast 0.5\n",
      "slow 1\n",
      "fast 1.0\n",
      "fast 1.5\n",
      "slow 2\n",
      "fast 2.0\n"
     ]
    }
   ],
   "source": [
    "env = simpy.Environment()\n",
    "env.process(clock(env,'fast',0.5))\n",
    "env.process(clock(env,'slow',1))\n",
    "env.run(until=2.1)"
   ]
  },
  {
   "cell_type": "markdown",
   "metadata": {},
   "source": [
    "## Return Value (no break)"
   ]
  },
  {
   "cell_type": "code",
   "execution_count": 4,
   "metadata": {},
   "outputs": [],
   "source": [
    "def example(env):\n",
    "    value = yield env.timeout(1,value=42)\n",
    "    print('now=%d, value=%d' % (env.now,value))"
   ]
  },
  {
   "cell_type": "code",
   "execution_count": 7,
   "metadata": {},
   "outputs": [
    {
     "name": "stdout",
     "output_type": "stream",
     "text": [
      "now=1, value=42\n"
     ]
    }
   ],
   "source": [
    "env = simpy.Environment()\n",
    "p = env.process(example(env))\n",
    "env.run()"
   ]
  },
  {
   "cell_type": "markdown",
   "metadata": {},
   "source": [
    "## Return Value (with break)"
   ]
  },
  {
   "cell_type": "code",
   "execution_count": 8,
   "metadata": {},
   "outputs": [],
   "source": [
    "def my_proc(env):\n",
    "    yield env.timeout(1)\n",
    "    return 'Armen'"
   ]
  },
  {
   "cell_type": "code",
   "execution_count": 9,
   "metadata": {},
   "outputs": [
    {
     "data": {
      "text/plain": [
       "'Armen'"
      ]
     },
     "execution_count": 9,
     "metadata": {},
     "output_type": "execute_result"
    }
   ],
   "source": [
    "env = simpy.Environment()\n",
    "proc = env.process(my_proc(env))\n",
    "env.run(until=proc)"
   ]
  },
  {
   "cell_type": "markdown",
   "metadata": {},
   "source": [
    "## Step by Step"
   ]
  },
  {
   "cell_type": "code",
   "execution_count": 10,
   "metadata": {},
   "outputs": [],
   "source": [
    "def my_proc(env):\n",
    "    while True:\n",
    "        yield env.timeout(1)\n",
    "        print('Armen at %d' % env.now)"
   ]
  },
  {
   "cell_type": "code",
   "execution_count": 11,
   "metadata": {},
   "outputs": [
    {
     "name": "stdout",
     "output_type": "stream",
     "text": [
      "Armen at 1\n",
      "Armen at 2\n",
      "Armen at 3\n",
      "Armen at 4\n",
      "Armen at 5\n",
      "Armen at 6\n",
      "Armen at 7\n",
      "Armen at 8\n",
      "Armen at 9\n"
     ]
    }
   ],
   "source": [
    "env = simpy.Environment()\n",
    "env.process(my_proc(env))\n",
    "until = 10\n",
    "while env.peek() < until:\n",
    "    env.step()"
   ]
  },
  {
   "cell_type": "markdown",
   "metadata": {},
   "source": [
    "## Process monitoring"
   ]
  },
  {
   "cell_type": "code",
   "execution_count": 14,
   "metadata": {},
   "outputs": [],
   "source": [
    "def subfunc(env):\n",
    "    print(env.active_process)\n",
    "\n",
    "def my_proc(env):\n",
    "    while True:\n",
    "        print(env.active_process)\n",
    "        subfunc(env)\n",
    "        yield env.timeout(1)"
   ]
  },
  {
   "cell_type": "code",
   "execution_count": 15,
   "metadata": {},
   "outputs": [
    {
     "name": "stdout",
     "output_type": "stream",
     "text": [
      "None\n",
      "<Process(my_proc) object at 0x25bf3ea72c8>\n",
      "<Process(my_proc) object at 0x25bf3ea72c8>\n",
      "None\n"
     ]
    }
   ],
   "source": [
    "env = simpy.Environment()\n",
    "p1 = env.process(my_proc(env))\n",
    "print(env.active_process)\n",
    "env.step()\n",
    "print(env.active_process)"
   ]
  },
  {
   "cell_type": "markdown",
   "metadata": {},
   "source": [
    "## Sleep until woken up"
   ]
  },
  {
   "cell_type": "code",
   "execution_count": 16,
   "metadata": {},
   "outputs": [],
   "source": [
    "from random import seed, randint\n",
    "seed(23)\n",
    "\n",
    "class EV:\n",
    "    def __init__(self, env):\n",
    "        self.env = env\n",
    "        self.drive_proc = env.process(self.drive(env))\n",
    "        self.bat_ctrl_proc = env.process(self.bat_ctrl(env))\n",
    "        self.bat_ctrl_reactivate = env.event()\n",
    "\n",
    "    def drive(self, env):\n",
    "        while True:\n",
    "            # Drive for 20-40 min\n",
    "            yield env.timeout(randint(20, 40))\n",
    "\n",
    "            # Park for 1–6 hours\n",
    "            print('Start parking at', env.now)\n",
    "            self.bat_ctrl_reactivate.succeed()  # \"reactivate\"\n",
    "            self.bat_ctrl_reactivate = env.event()\n",
    "            yield env.timeout(randint(60, 360))\n",
    "            print('Stop parking at', env.now)\n",
    "\n",
    "    def bat_ctrl(self, env):\n",
    "        while True:\n",
    "            print('Bat. ctrl. passivating at', env.now)\n",
    "            yield self.bat_ctrl_reactivate  # \"passivate\"\n",
    "            print('Bat. ctrl. reactivated at', env.now)\n",
    "\n",
    "            # Intelligent charging behavior here …\n",
    "            yield env.timeout(randint(30, 90))"
   ]
  },
  {
   "cell_type": "code",
   "execution_count": 17,
   "metadata": {},
   "outputs": [
    {
     "name": "stdout",
     "output_type": "stream",
     "text": [
      "Bat. ctrl. passivating at 0\n",
      "Start parking at 29\n",
      "Bat. ctrl. reactivated at 29\n",
      "Bat. ctrl. passivating at 60\n",
      "Stop parking at 131\n"
     ]
    }
   ],
   "source": [
    "env = simpy.Environment()\n",
    "ev = EV(env)\n",
    "env.run(until=150)"
   ]
  },
  {
   "cell_type": "markdown",
   "metadata": {},
   "source": [
    "## Waiting for another process to terminate"
   ]
  },
  {
   "cell_type": "code",
   "execution_count": 22,
   "metadata": {},
   "outputs": [],
   "source": [
    "class EV:\n",
    "    def __init__(self, env):\n",
    "        self.env = env\n",
    "        self.drive_proc = env.process(self.drive(env))\n",
    "\n",
    "    def drive(self, env):\n",
    "        while True:\n",
    "            # Drive for 20-40 min\n",
    "            yield env.timeout(randint(20, 40))\n",
    "\n",
    "            # Park for 1–6 hours\n",
    "            print('Start parking at', env.now)\n",
    "            charging = env.process(self.bat_ctrl(env))\n",
    "            parking = env.timeout(randint(60, 360))\n",
    "            yield charging & parking\n",
    "            print('Stop parking at', env.now)\n",
    "\n",
    "    def bat_ctrl(self, env):\n",
    "        print('Bat. ctrl. started at', env.now)\n",
    "        # Intelligent charging behavior here …\n",
    "        yield env.timeout(randint(30, 90))\n",
    "        print('Bat. ctrl. done at', env.now)"
   ]
  },
  {
   "cell_type": "code",
   "execution_count": 25,
   "metadata": {},
   "outputs": [
    {
     "name": "stdout",
     "output_type": "stream",
     "text": [
      "Start parking at 21\n",
      "Bat. ctrl. started at 21\n",
      "Bat. ctrl. done at 101\n",
      "Stop parking at 186\n",
      "Start parking at 207\n",
      "Bat. ctrl. started at 207\n",
      "Bat. ctrl. done at 279\n"
     ]
    }
   ],
   "source": [
    "env = simpy.Environment()\n",
    "ev = EV(env)\n",
    "env.run(until=310)"
   ]
  },
  {
   "cell_type": "markdown",
   "metadata": {},
   "source": [
    "## Interrupting another process"
   ]
  },
  {
   "cell_type": "code",
   "execution_count": 40,
   "metadata": {},
   "outputs": [],
   "source": [
    "class EV:\n",
    "    def __init__(self, env):\n",
    "        self.env = env\n",
    "        self.drive_proc = env.process(self.drive(env))\n",
    "\n",
    "    def drive(self, env):\n",
    "        while True:\n",
    "            # Drive for 20-40 min\n",
    "            yield env.timeout(randint(20, 40))\n",
    "\n",
    "            # Park for 1 hour\n",
    "            print('Start parking at', env.now)\n",
    "            charging = env.process(self.bat_ctrl(env))\n",
    "            parking = env.timeout(60)\n",
    "            yield charging | parking\n",
    "            if not charging.triggered:\n",
    "                # Interrupt charging if not already done.\n",
    "                charging.interrupt('Need to go!')\n",
    "            print('Stop parking at', env.now)\n",
    "\n",
    "    def bat_ctrl(self, env):\n",
    "        print('Bat. ctrl. started at', env.now)\n",
    "        try:\n",
    "            yield env.timeout(randint(60, 90))\n",
    "            print('Bat. ctrl. done at', env.now)\n",
    "        except simpy.Interrupt as i:\n",
    "            # Onoes! Got interrupted before the charging was done.\n",
    "            print('Bat. ctrl. interrupted at', env.now, 'msg:', i.cause)"
   ]
  },
  {
   "cell_type": "code",
   "execution_count": 41,
   "metadata": {},
   "outputs": [
    {
     "name": "stdout",
     "output_type": "stream",
     "text": [
      "Start parking at 21\n",
      "Bat. ctrl. started at 21\n",
      "Stop parking at 81\n",
      "Bat. ctrl. interrupted at 81 msg: Need to go!\n"
     ]
    }
   ],
   "source": [
    "env = simpy.Environment()\n",
    "ev = EV(env)\n",
    "env.run(until=100)"
   ]
  },
  {
   "cell_type": "markdown",
   "metadata": {},
   "source": [
    "## Resource"
   ]
  },
  {
   "cell_type": "code",
   "execution_count": 45,
   "metadata": {},
   "outputs": [],
   "source": [
    "def resource_user(env, resource):\n",
    "    request = resource.request()  # Generate a request event\n",
    "    yield request                 # Wait for access\n",
    "    print('Resource request', env.now)\n",
    "    yield env.timeout(1)          # Do something\n",
    "    resource.release(request)     # Release the resource\n",
    "    print('Resource release', env.now)"
   ]
  },
  {
   "cell_type": "code",
   "execution_count": 46,
   "metadata": {},
   "outputs": [
    {
     "name": "stdout",
     "output_type": "stream",
     "text": [
      "Resource request 0\n",
      "Resource release 1\n"
     ]
    }
   ],
   "source": [
    "env = simpy.Environment()\n",
    "res = simpy.Resource(env, capacity=1)\n",
    "user = env.process(resource_user(env, res))\n",
    "env.run()"
   ]
  },
  {
   "cell_type": "code",
   "execution_count": 47,
   "metadata": {},
   "outputs": [],
   "source": [
    "def resource_user(env, resource):\n",
    "    with resource.request() as req:  # Generate a request event\n",
    "        yield req                    # Wait for access\n",
    "        print('Resource request', env.now)\n",
    "        yield env.timeout(1)         # Do something\n",
    "                                     # Resource released automatically\n",
    "        print('Resource release', env.now)"
   ]
  },
  {
   "cell_type": "code",
   "execution_count": 49,
   "metadata": {},
   "outputs": [
    {
     "name": "stdout",
     "output_type": "stream",
     "text": [
      "Resource request 0\n",
      "Resource release 1\n"
     ]
    }
   ],
   "source": [
    "env = simpy.Environment()\n",
    "res = simpy.Resource(env, capacity=1)\n",
    "user = env.process(resource_user(env, res))\n",
    "env.run()"
   ]
  },
  {
   "cell_type": "markdown",
   "metadata": {},
   "source": [
    "## Resource Stats"
   ]
  },
  {
   "cell_type": "code",
   "execution_count": 50,
   "metadata": {},
   "outputs": [],
   "source": [
    "def print_stats(res):\n",
    "    print(f'{res.count} of {res.capacity} slots are allocated.')\n",
    "    print(f'  Users: {res.users}')\n",
    "    print(f'  Queued events: {res.queue}')\n",
    "\n",
    "\n",
    "def user(res):\n",
    "    print_stats(res)\n",
    "    with res.request() as req:\n",
    "        yield req\n",
    "        print_stats(res)\n",
    "    print_stats(res)"
   ]
  },
  {
   "cell_type": "code",
   "execution_count": 51,
   "metadata": {},
   "outputs": [
    {
     "name": "stdout",
     "output_type": "stream",
     "text": [
      "0 of 1 slots are allocated.\n",
      "  Users: []\n",
      "  Queued events: []\n",
      "1 of 1 slots are allocated.\n",
      "  Users: [<Request() object at 0x25bf3e15e48>]\n",
      "  Queued events: []\n",
      "1 of 1 slots are allocated.\n",
      "  Users: [<Request() object at 0x25bf3e15e48>]\n",
      "  Queued events: [<Request() object at 0x25bf3e15348>]\n",
      "0 of 1 slots are allocated.\n",
      "  Users: []\n",
      "  Queued events: [<Request() object at 0x25bf3e15348>]\n",
      "1 of 1 slots are allocated.\n",
      "  Users: [<Request() object at 0x25bf3e15348>]\n",
      "  Queued events: []\n",
      "0 of 1 slots are allocated.\n",
      "  Users: []\n",
      "  Queued events: []\n"
     ]
    }
   ],
   "source": [
    "env = simpy.Environment()\n",
    "res = simpy.Resource(env, capacity=1)\n",
    "procs = [env.process(user(res)), env.process(user(res))]\n",
    "env.run()"
   ]
  },
  {
   "cell_type": "markdown",
   "metadata": {},
   "source": [
    "## Priority Resource"
   ]
  },
  {
   "cell_type": "code",
   "execution_count": 58,
   "metadata": {},
   "outputs": [],
   "source": [
    "def resource_user(name, env, resource, wait, prio):\n",
    "    yield env.timeout(wait)\n",
    "    with resource.request(priority=prio) as req:\n",
    "        print(f'{name} requesting at {env.now} with priority={prio}')\n",
    "        yield req\n",
    "        print(f'{name} got resource at {env.now}')\n",
    "        yield env.timeout(3)"
   ]
  },
  {
   "cell_type": "code",
   "execution_count": 59,
   "metadata": {},
   "outputs": [
    {
     "name": "stdout",
     "output_type": "stream",
     "text": [
      "1 requesting at 0 with priority=0\n",
      "1 got resource at 0\n",
      "2 requesting at 1 with priority=0\n",
      "3 requesting at 2 with priority=-1\n",
      "3 got resource at 3\n",
      "2 got resource at 6\n"
     ]
    }
   ],
   "source": [
    "env = simpy.Environment()\n",
    "res = simpy.PriorityResource(env, capacity=1)\n",
    "p1 = env.process(resource_user(1, env, res, wait=0, prio=0))\n",
    "p2 = env.process(resource_user(2, env, res, wait=1, prio=0))\n",
    "p3 = env.process(resource_user(3, env, res, wait=2, prio=-1))\n",
    "env.run()"
   ]
  },
  {
   "cell_type": "markdown",
   "metadata": {},
   "source": [
    "## Preemptive Resource"
   ]
  },
  {
   "cell_type": "code",
   "execution_count": 56,
   "metadata": {},
   "outputs": [],
   "source": [
    "def resource_user(name, env, resource, wait, prio):\n",
    "    yield env.timeout(wait)\n",
    "    with resource.request(priority=prio) as req:\n",
    "        print(f'{name} requesting at {env.now} with priority={prio}')\n",
    "        yield req\n",
    "        print(f'{name} got resource at {env.now}')\n",
    "        try:\n",
    "            yield env.timeout(3)\n",
    "        except simpy.Interrupt as interrupt:\n",
    "            by = interrupt.cause.by\n",
    "            usage = env.now - interrupt.cause.usage_since\n",
    "            print(f'{name} got preempted by {by} at {env.now}'\n",
    "                f' after {usage}')"
   ]
  },
  {
   "cell_type": "code",
   "execution_count": 57,
   "metadata": {},
   "outputs": [
    {
     "name": "stdout",
     "output_type": "stream",
     "text": [
      "1 requesting at 0 with priority=0\n",
      "1 got resource at 0\n",
      "2 requesting at 1 with priority=0\n",
      "3 requesting at 2 with priority=-1\n",
      "1 got preempted by <Process(resource_user) object at 0x25bf3dc4e88> at 2 after 2\n",
      "3 got resource at 2\n",
      "2 got resource at 5\n"
     ]
    }
   ],
   "source": [
    "env = simpy.Environment()\n",
    "res = simpy.PreemptiveResource(env, capacity=1)\n",
    "p1 = env.process(resource_user(1, env, res, wait=0, prio=0))\n",
    "p2 = env.process(resource_user(2, env, res, wait=1, prio=0))\n",
    "p3 = env.process(resource_user(3, env, res, wait=2, prio=-1))\n",
    "env.run()"
   ]
  },
  {
   "cell_type": "markdown",
   "metadata": {},
   "source": [
    "## Preemptive vs Priority"
   ]
  },
  {
   "cell_type": "code",
   "execution_count": 60,
   "metadata": {},
   "outputs": [],
   "source": [
    "def user(name, env, res, prio, preempt):\n",
    "    with res.request(priority=prio, preempt=preempt) as req:\n",
    "        try:\n",
    "            print(f'{name} requesting at {env.now}')\n",
    "            assert isinstance(env.now, int), type(env.now)\n",
    "            yield req\n",
    "            assert isinstance(env.now, int), type(env.now)\n",
    "            print(f'{name} got resource at {env.now}')\n",
    "            yield env.timeout(3)\n",
    "        except simpy.Interrupt:\n",
    "            print(f'{name} got preempted at {env.now}')"
   ]
  },
  {
   "cell_type": "code",
   "execution_count": 61,
   "metadata": {},
   "outputs": [
    {
     "name": "stdout",
     "output_type": "stream",
     "text": [
      "A requesting at 0\n",
      "A got resource at 0\n"
     ]
    }
   ],
   "source": [
    "env = simpy.Environment()\n",
    "res = simpy.PreemptiveResource(env, capacity=1)\n",
    "A = env.process(user('A', env, res, prio=0, preempt=True))\n",
    "env.run(until=1)  # Give A a head start"
   ]
  },
  {
   "cell_type": "code",
   "execution_count": 62,
   "metadata": {},
   "outputs": [
    {
     "name": "stdout",
     "output_type": "stream",
     "text": [
      "B requesting at 1\n",
      "C requesting at 1\n",
      "B got resource at 3\n",
      "C got resource at 6\n"
     ]
    }
   ],
   "source": [
    "B = env.process(user('B', env, res, prio=-2, preempt=False))\n",
    "C = env.process(user('C', env, res, prio=-1, preempt=True))\n",
    "env.run()"
   ]
  },
  {
   "cell_type": "markdown",
   "metadata": {},
   "source": [
    "## Containers"
   ]
  },
  {
   "cell_type": "code",
   "execution_count": 63,
   "metadata": {},
   "outputs": [],
   "source": [
    "class GasStation:\n",
    "    def __init__(self, env):\n",
    "        self.fuel_dispensers = simpy.Resource(env, capacity=2)\n",
    "        self.gas_tank = simpy.Container(env, init=100, capacity=1000)\n",
    "        self.mon_proc = env.process(self.monitor_tank(env))\n",
    "\n",
    "    def monitor_tank(self, env):\n",
    "        while True:\n",
    "            if self.gas_tank.level < 100:\n",
    "                print(f'Calling tanker at {env.now}')\n",
    "                env.process(tanker(env, self))\n",
    "            yield env.timeout(15)\n",
    "\n",
    "def tanker(env, gas_station):\n",
    "    yield env.timeout(10)  # Need 10 Minutes to arrive\n",
    "    print(f'Tanker arriving at {env.now}')\n",
    "    amount = gas_station.gas_tank.capacity - gas_station.gas_tank.level\n",
    "    yield gas_station.gas_tank.put(amount)\n",
    "\n",
    "\n",
    "def car(name, env, gas_station):\n",
    "    print(f'Car {name} arriving at {env.now}')\n",
    "    with gas_station.fuel_dispensers.request() as req:\n",
    "        yield req\n",
    "        print(f'Car {name} starts refueling at {env.now}')\n",
    "        yield gas_station.gas_tank.get(40)\n",
    "        yield env.timeout(5)\n",
    "        print(f'Car {name} done refueling at {env.now}')\n",
    "\n",
    "def car_generator(env, gas_station):\n",
    "    for i in range(4):\n",
    "        env.process(car(i, env, gas_station))\n",
    "        yield env.timeout(5)"
   ]
  },
  {
   "cell_type": "code",
   "execution_count": 64,
   "metadata": {},
   "outputs": [
    {
     "name": "stdout",
     "output_type": "stream",
     "text": [
      "Car 0 arriving at 0\n",
      "Car 0 starts refueling at 0\n",
      "Car 1 arriving at 5\n",
      "Car 0 done refueling at 5\n",
      "Car 1 starts refueling at 5\n",
      "Car 2 arriving at 10\n",
      "Car 1 done refueling at 10\n",
      "Car 2 starts refueling at 10\n",
      "Calling tanker at 15\n",
      "Car 3 arriving at 15\n",
      "Car 3 starts refueling at 15\n",
      "Tanker arriving at 25\n",
      "Car 2 done refueling at 30\n",
      "Car 3 done refueling at 30\n"
     ]
    }
   ],
   "source": [
    "env = simpy.Environment()\n",
    "gas_station = GasStation(env)\n",
    "car_gen = env.process(car_generator(env, gas_station))\n",
    "env.run(35)"
   ]
  },
  {
   "cell_type": "markdown",
   "metadata": {},
   "source": [
    "## Stores"
   ]
  },
  {
   "cell_type": "code",
   "execution_count": 65,
   "metadata": {},
   "outputs": [],
   "source": [
    "def producer(env, store):\n",
    "    for i in range(100):\n",
    "        yield env.timeout(2)\n",
    "        yield store.put(f'spam {i}')\n",
    "        print(f'Produced spam at', env.now)\n",
    "\n",
    "def consumer(name, env, store):\n",
    "    while True:\n",
    "        yield env.timeout(1)\n",
    "        print(name, 'requesting spam at', env.now)\n",
    "        item = yield store.get()\n",
    "        print(name, 'got', item, 'at', env.now)"
   ]
  },
  {
   "cell_type": "code",
   "execution_count": 66,
   "metadata": {},
   "outputs": [
    {
     "name": "stdout",
     "output_type": "stream",
     "text": [
      "0 requesting spam at 1\n",
      "1 requesting spam at 1\n",
      "Produced spam at 2\n",
      "0 got spam 0 at 2\n",
      "0 requesting spam at 3\n",
      "Produced spam at 4\n",
      "1 got spam 1 at 4\n"
     ]
    }
   ],
   "source": [
    "env = simpy.Environment()\n",
    "store = simpy.Store(env, capacity=2)\n",
    "prod = env.process(producer(env, store))\n",
    "consumers = [env.process(consumer(i, env, store)) for i in range(2)]\n",
    "env.run(until=5)"
   ]
  }
 ],
 "metadata": {
  "kernelspec": {
   "display_name": "Python 3",
   "language": "python",
   "name": "python3"
  },
  "language_info": {
   "codemirror_mode": {
    "name": "ipython",
    "version": 3
   },
   "file_extension": ".py",
   "mimetype": "text/x-python",
   "name": "python",
   "nbconvert_exporter": "python",
   "pygments_lexer": "ipython3",
   "version": "3.7.7"
  }
 },
 "nbformat": 4,
 "nbformat_minor": 4
}
